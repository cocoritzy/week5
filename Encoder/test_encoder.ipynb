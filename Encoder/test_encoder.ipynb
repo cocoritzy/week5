{
 "cells": [
  {
   "cell_type": "code",
   "execution_count": 49,
   "id": "4aab9995",
   "metadata": {},
   "outputs": [],
   "source": [
    "from model_encoder import classification\n",
    "import torch \n",
    "\n",
    "model = classification(num_classes=10)  # or whatever your class is\n"
   ]
  },
  {
   "cell_type": "code",
   "execution_count": 50,
   "id": "ef3ed5f9",
   "metadata": {},
   "outputs": [
    {
     "data": {
      "text/plain": [
       "classification(\n",
       "  (cnn): CNN1D(\n",
       "    (conv1): Conv1d(128, 256, kernel_size=(3,), stride=(1,), padding=(1,))\n",
       "    (conv2): Conv1d(256, 256, kernel_size=(3,), stride=(1,), padding=(1,))\n",
       "    (gelu): GELU(approximate='none')\n",
       "  )\n",
       "  (encoder_blocks): ModuleList(\n",
       "    (0): EncoderBlock(\n",
       "      (ln1): LayerNorm((256,), eps=1e-05, elementwise_affine=True)\n",
       "      (mha): MultiheadAttention(\n",
       "        (out_proj): NonDynamicallyQuantizableLinear(in_features=256, out_features=256, bias=True)\n",
       "      )\n",
       "      (ffn): Sequential(\n",
       "        (0): Linear(in_features=256, out_features=512, bias=True)\n",
       "        (1): ReLU()\n",
       "        (2): Linear(in_features=512, out_features=256, bias=True)\n",
       "      )\n",
       "      (ln2): LayerNorm((256,), eps=1e-05, elementwise_affine=True)\n",
       "    )\n",
       "  )\n",
       "  (classifier): Sequential(\n",
       "    (0): LayerNorm((256,), eps=1e-05, elementwise_affine=True)\n",
       "    (1): Linear(in_features=256, out_features=10, bias=True)\n",
       "  )\n",
       ")"
      ]
     },
     "execution_count": 50,
     "metadata": {},
     "output_type": "execute_result"
    }
   ],
   "source": [
    "model.load_state_dict(torch.load('encoder.pt'))\n",
    "model.eval()  # set model to evaluation mode"
   ]
  },
  {
   "cell_type": "code",
   "execution_count": 51,
   "id": "3de99151",
   "metadata": {},
   "outputs": [],
   "source": [
    "import pickle \n",
    "\n",
    "with open('test_data.pkl', 'rb') as f:\n",
    "    test_data_df = pickle.load(f)\n"
   ]
  },
  {
   "cell_type": "code",
   "execution_count": 52,
   "id": "322c7da2",
   "metadata": {},
   "outputs": [
    {
     "data": {
      "text/plain": [
       "873"
      ]
     },
     "execution_count": 52,
     "metadata": {},
     "output_type": "execute_result"
    }
   ],
   "source": [
    "len(test_data_df)"
   ]
  },
  {
   "cell_type": "code",
   "execution_count": 53,
   "id": "662e33f8",
   "metadata": {},
   "outputs": [
    {
     "name": "stdout",
     "output_type": "stream",
     "text": [
      "[[-57.7844   -53.98051  -50.321198 ... -49.685265 -44.079895 -80.      ]\n",
      " [-49.930042 -48.360558 -49.49008  ... -46.914062 -43.108738 -80.      ]\n",
      " [-49.53424  -47.375587 -48.931683 ... -44.369736 -45.24591  -80.      ]\n",
      " ...\n",
      " [-76.36796  -72.24773  -59.231697 ... -48.51703  -53.00422  -80.      ]\n",
      " [-79.536865 -76.642845 -68.80458  ... -49.777138 -52.982292 -80.      ]\n",
      " [-80.       -80.       -80.       ... -63.212822 -57.401    -80.      ]] tensor(1)\n",
      "(128, 127) torch.Size([1, 128, 127])\n"
     ]
    }
   ],
   "source": [
    "from class_CNN import DatasetClass\n",
    "from torch.utils.data import DataLoader\n",
    "import torch\n",
    "import numpy as np\n",
    "\n",
    "\n",
    "sample_spec, sample_label = test_data_df[300]  # or any index\n",
    "\n",
    "device = torch.device(\"cuda\" if torch.cuda.is_available() else \"cpu\")\n",
    "# convert to tensor\n",
    "sample_spec_tensor = torch.tensor(sample_spec, dtype=torch.float32)\n",
    "\n",
    "# then add the batch dimension\n",
    "input_tensor = sample_spec_tensor.unsqueeze(0)\n",
    "\n",
    "\n",
    "print(sample_spec, sample_label)\n",
    "print(sample_spec.shape, input_tensor.shape)"
   ]
  },
  {
   "cell_type": "code",
   "execution_count": 54,
   "id": "16918ca5",
   "metadata": {},
   "outputs": [
    {
     "name": "stdout",
     "output_type": "stream",
     "text": [
      "Predicted class: 1\n",
      "True class: 1\n"
     ]
    }
   ],
   "source": [
    "with torch.no_grad():\n",
    "    output = model(input_tensor)\n",
    "    predicted_class = torch.argmax(output, dim=1).item()\n",
    "\n",
    "\n",
    "print(f\"Predicted class: {predicted_class}\")\n",
    "print(f\"True class: {sample_label.item()}\")\n",
    "\n"
   ]
  },
  {
   "cell_type": "code",
   "execution_count": 55,
   "id": "502fac6d",
   "metadata": {},
   "outputs": [
    {
     "data": {
      "text/plain": [
       "28"
      ]
     },
     "execution_count": 55,
     "metadata": {},
     "output_type": "execute_result"
    }
   ],
   "source": [
    "#test on all data \n",
    "\n",
    "from torch.utils.data import DataLoader\n",
    "import torch\n",
    "\n",
    "\n",
    "test_loader = DataLoader(test_data_df, batch_size=32, shuffle=False)\n",
    "\n",
    "len(test_loader)"
   ]
  },
  {
   "cell_type": "code",
   "execution_count": null,
   "id": "be51c995",
   "metadata": {},
   "outputs": [],
   "source": []
  },
  {
   "cell_type": "code",
   "execution_count": 56,
   "id": "dd892efb",
   "metadata": {},
   "outputs": [
    {
     "name": "stdout",
     "output_type": "stream",
     "text": [
      "✅ Accuracy on full test set: 77.66%\n"
     ]
    }
   ],
   "source": [
    "\n",
    "\n",
    "# 2. Send model to device and set to eval mode\n",
    "device = torch.device(\"cuda\" if torch.cuda.is_available() else \"cpu\")\n",
    "model.to(device)\n",
    "model.eval()\n",
    "\n",
    "# 3. Initialize counters\n",
    "correct = 0\n",
    "total = 0\n",
    "\n",
    "\n",
    "all_preds = []\n",
    "all_labels = []\n",
    "\n",
    "# 4. Evaluation loop\n",
    "with torch.no_grad():\n",
    "    for inputs, labels in test_loader:\n",
    "        inputs = inputs.to(device)\n",
    "        labels = labels.to(device)\n",
    "\n",
    "        outputs = model(inputs)\n",
    "        predictions = torch.argmax(outputs, dim=1)\n",
    "\n",
    "        correct += (predictions == labels).sum().item()\n",
    "        total += labels.size(0)\n",
    "\n",
    "        # Save predictions and labels\n",
    "        all_preds.extend(predictions.cpu().numpy())\n",
    "        all_labels.extend(labels.cpu().numpy())\n",
    "\n",
    "# 5. Compute and print accuracy\n",
    "accuracy = correct / total\n",
    "print(f\"✅ Accuracy on full test set: {accuracy:.2%}\")\n"
   ]
  },
  {
   "cell_type": "code",
   "execution_count": 57,
   "id": "e31431d0",
   "metadata": {},
   "outputs": [
    {
     "data": {
      "image/png": "[encoded data removed]",
      "text/plain": [
       "<Figure size 800x600 with 2 Axes>"
      ]
     },
     "metadata": {},
     "output_type": "display_data"
    }
   ],
   "source": [
    "from sklearn.metrics import confusion_matrix\n",
    "import matplotlib.pyplot as plt\n",
    "import seaborn as sns\n",
    "\n",
    "cm = confusion_matrix(all_labels, all_preds)\n",
    "\n",
    "plt.figure(figsize=(8, 6))\n",
    "sns.heatmap(cm, annot=True, fmt=\"d\", cmap=\"Blues\")\n",
    "plt.xlabel(\"Predicted\")\n",
    "plt.ylabel(\"True\")\n",
    "plt.title(\"Confusion Matrix\")\n",
    "plt.show()\n",
    "\n",
    "\n",
    "\n",
    "\n",
    "\n"
   ]
  }
 ],
 "metadata": {
  "kernelspec": {
   "display_name": "venv",
   "language": "python",
   "name": "python3"
  },
  "language_info": {
   "codemirror_mode": {
    "name": "ipython",
    "version": 3
   },
   "file_extension": ".py",
   "mimetype": "text/x-python",
   "name": "python",
   "nbconvert_exporter": "python",
   "pygments_lexer": "ipython3",
   "version": "3.10.12"
  }
 },
 "nbformat": 4,
 "nbformat_minor": 5
}
