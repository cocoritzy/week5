{
 "cells": [
  {
   "cell_type": "code",
   "execution_count": 1,
   "id": "12ae3feb",
   "metadata": {},
   "outputs": [],
   "source": [
    "import librosa\n",
    "import numpy as np\n",
    "from tqdm import tqdm\n",
    "import os\n",
    "\n",
    "def load_audio_files(df, path, sr=16000, n_mels=128):\n",
    "    audio_data = []\n",
    "    \n",
    "    for index, row in tqdm(df.iterrows(), total=len(df)):\n",
    "        file_path = os.path.join(path, 'fold' + str(row[\"fold\"]), row[\"slice_file_name\"])\n",
    "        \n",
    "        try:\n",
    "            # 📥 Load audio\n",
    "            y, _ = librosa.load(file_path, sr=sr)\n",
    "\n",
    "            # 🎛️ Compute mel spectrogram\n",
    "            S = librosa.feature.melspectrogram(y=y, sr=sr, n_mels=n_mels)\n",
    "\n",
    "            # 🔊 Convert to decibels (log scale)\n",
    "            S_dB = librosa.power_to_db(S, ref=np.max)\n",
    "\n",
    "            # 🧺 Store spectrogram and label\n",
    "            audio_data.append((S_dB, row[\"classID\"]))\n",
    "\n",
    "        except Exception as e:\n",
    "            print(f\"Failed to load {file_path}: {e}\")\n",
    "    \n",
    "    return audio_data\n"
   ]
  },
  {
   "cell_type": "code",
   "execution_count": 2,
   "id": "06f45980",
   "metadata": {},
   "outputs": [
    {
     "name": "stderr",
     "output_type": "stream",
     "text": [
      " 24%|██▍       | 2120/8732 [02:44<07:39, 14.40it/s]/root/week5/venv/lib/python3.10/site-packages/librosa/core/spectrum.py:266: UserWarning: n_fft=2048 is too large for input signal of length=1551\n",
      "  warnings.warn(\n",
      " 24%|██▍       | 2123/8732 [02:44<06:13, 17.70it/s]/root/week5/venv/lib/python3.10/site-packages/librosa/core/spectrum.py:266: UserWarning: n_fft=2048 is too large for input signal of length=1757\n",
      "  warnings.warn(\n",
      " 25%|██▌       | 2208/8732 [02:52<11:58,  9.08it/s]/root/week5/venv/lib/python3.10/site-packages/librosa/core/spectrum.py:266: UserWarning: n_fft=2048 is too large for input signal of length=1600\n",
      "  warnings.warn(\n",
      " 32%|███▏      | 2827/8732 [03:33<06:10, 15.95it/s]/root/week5/venv/lib/python3.10/site-packages/librosa/core/spectrum.py:266: UserWarning: n_fft=2048 is too large for input signal of length=1918\n",
      "  warnings.warn(\n",
      " 34%|███▍      | 3010/8732 [03:47<02:11, 43.55it/s]/root/week5/venv/lib/python3.10/site-packages/librosa/core/spectrum.py:266: UserWarning: n_fft=2048 is too large for input signal of length=1696\n",
      "  warnings.warn(\n",
      " 41%|████      | 3555/8732 [04:20<05:31, 15.63it/s]/root/week5/venv/lib/python3.10/site-packages/librosa/core/spectrum.py:266: UserWarning: n_fft=2048 is too large for input signal of length=960\n",
      "  warnings.warn(\n",
      " 95%|█████████▌| 8323/8732 [08:54<00:15, 27.01it/s]/root/week5/venv/lib/python3.10/site-packages/librosa/core/spectrum.py:266: UserWarning: n_fft=2048 is too large for input signal of length=800\n",
      "  warnings.warn(\n",
      " 95%|█████████▌| 8328/8732 [08:54<00:12, 32.60it/s]/root/week5/venv/lib/python3.10/site-packages/librosa/core/spectrum.py:266: UserWarning: n_fft=2048 is too large for input signal of length=1105\n",
      "  warnings.warn(\n",
      "/root/week5/venv/lib/python3.10/site-packages/librosa/core/spectrum.py:266: UserWarning: n_fft=2048 is too large for input signal of length=1745\n",
      "  warnings.warn(\n",
      "100%|██████████| 8732/8732 [09:19<00:00, 15.62it/s]\n"
     ]
    }
   ],
   "source": [
    "import pandas as pd\n",
    "\n",
    "df = pd.read_csv(\"UrbanSound8K/UrbanSound8K.csv\")\n",
    "audio_data = load_audio_files(df, \"UrbanSound8K\")"
   ]
  },
  {
   "cell_type": "code",
   "execution_count": 1,
   "id": "64189a7c",
   "metadata": {},
   "outputs": [
    {
     "ename": "NameError",
     "evalue": "name 'audio_data' is not defined",
     "output_type": "error",
     "traceback": [
      "\u001b[0;31m---------------------------------------------------------------------------\u001b[0m",
      "\u001b[0;31mNameError\u001b[0m                                 Traceback (most recent call last)",
      "Cell \u001b[0;32mIn[1], line 1\u001b[0m\n\u001b[0;32m----> 1\u001b[0m \u001b[43maudio_data\u001b[49m\u001b[38;5;241m.\u001b[39mshape()\n",
      "\u001b[0;31mNameError\u001b[0m: name 'audio_data' is not defined"
     ]
    }
   ],
   "source": [
    "audio_data.shape()"
   ]
  },
  {
   "cell_type": "code",
   "execution_count": null,
   "id": "8e98d5f8",
   "metadata": {},
   "outputs": [],
   "source": []
  },
  {
   "cell_type": "code",
   "execution_count": 3,
   "id": "8dd8a4fd",
   "metadata": {},
   "outputs": [],
   "source": [
    "import pickle\n",
    "\n",
    "with open('audio_data.pkl', 'wb') as f:\n",
    "    pickle.dump(audio_data, f)\n"
   ]
  }
 ],
 "metadata": {
  "kernelspec": {
   "display_name": "venv",
   "language": "python",
   "name": "python3"
  },
  "language_info": {
   "codemirror_mode": {
    "name": "ipython",
    "version": 3
   },
   "file_extension": ".py",
   "mimetype": "text/x-python",
   "name": "python",
   "nbconvert_exporter": "python",
   "pygments_lexer": "ipython3",
   "version": "3.10.12"
  }
 },
 "nbformat": 4,
 "nbformat_minor": 5
}
