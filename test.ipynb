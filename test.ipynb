{
 "cells": [
  {
   "cell_type": "code",
   "execution_count": 34,
   "id": "4aab9995",
   "metadata": {},
   "outputs": [],
   "source": [
    "from model_CNN import UrbanCNN\n",
    "import torch \n",
    "\n",
    "model = UrbanCNN(num_classes=10)  # or whatever your class is\n"
   ]
  },
  {
   "cell_type": "code",
   "execution_count": 35,
   "id": "ef3ed5f9",
   "metadata": {},
   "outputs": [
    {
     "data": {
      "text/plain": [
       "UrbanCNN(\n",
       "  (conv1): Conv2d(1, 16, kernel_size=(3, 3), stride=(1, 1), padding=(1, 1))\n",
       "  (conv2): Conv2d(16, 32, kernel_size=(3, 3), stride=(1, 1), padding=(1, 1))\n",
       "  (pool): MaxPool2d(kernel_size=2, stride=2, padding=0, dilation=1, ceil_mode=False)\n",
       "  (relu): ReLU()\n",
       "  (flatten): Flatten(start_dim=1, end_dim=-1)\n",
       "  (fc1): Linear(in_features=31744, out_features=128, bias=True)\n",
       "  (fc2): Linear(in_features=128, out_features=10, bias=True)\n",
       ")"
      ]
     },
     "execution_count": 35,
     "metadata": {},
     "output_type": "execute_result"
    }
   ],
   "source": [
    "model.load_state_dict(torch.load('cnn_3couches.pt'))\n",
    "model.eval()  # set model to evaluation mode"
   ]
  },
  {
   "cell_type": "code",
   "execution_count": 36,
   "id": "3de99151",
   "metadata": {},
   "outputs": [],
   "source": [
    "import pickle \n",
    "\n",
    "with open('test_data.pkl', 'rb') as f:\n",
    "    test_data_df = pickle.load(f)\n"
   ]
  },
  {
   "cell_type": "code",
   "execution_count": 37,
   "id": "322c7da2",
   "metadata": {},
   "outputs": [
    {
     "data": {
      "text/plain": [
       "873"
      ]
     },
     "execution_count": 37,
     "metadata": {},
     "output_type": "execute_result"
    }
   ],
   "source": [
    "len(test_data_df)"
   ]
  },
  {
   "cell_type": "code",
   "execution_count": 38,
   "id": "662e33f8",
   "metadata": {},
   "outputs": [
    {
     "name": "stdout",
     "output_type": "stream",
     "text": [
      "tensor([[[-57.7844, -53.9805, -50.3212,  ..., -49.6853, -44.0799, -80.0000],\n",
      "         [-49.9300, -48.3606, -49.4901,  ..., -46.9141, -43.1087, -80.0000],\n",
      "         [-49.5342, -47.3756, -48.9317,  ..., -44.3697, -45.2459, -80.0000],\n",
      "         ...,\n",
      "         [-76.3680, -72.2477, -59.2317,  ..., -48.5170, -53.0042, -80.0000],\n",
      "         [-79.5369, -76.6428, -68.8046,  ..., -49.7771, -52.9823, -80.0000],\n",
      "         [-80.0000, -80.0000, -80.0000,  ..., -63.2128, -57.4010, -80.0000]]]) tensor(1)\n",
      "torch.Size([1, 128, 127]) torch.Size([1, 1, 128, 127])\n"
     ]
    }
   ],
   "source": [
    "from class_CNN import DatasetClass\n",
    "from torch.utils.data import DataLoader\n",
    "\n",
    "\n",
    "sample_spec, sample_label = test_data_df[300]  # or any index\n",
    "import torch\n",
    "device = torch.device(\"cuda\" if torch.cuda.is_available() else \"cpu\")\n",
    "input_tensor = sample_spec.unsqueeze(0)  # shape: (1, 1, 128, time)\n",
    "\n",
    "print(sample_spec, sample_label)\n",
    "print(sample_spec.shape, input_tensor.shape)"
   ]
  },
  {
   "cell_type": "code",
   "execution_count": 39,
   "id": "16918ca5",
   "metadata": {},
   "outputs": [
    {
     "name": "stdout",
     "output_type": "stream",
     "text": [
      "Predicted class: 1\n",
      "True class: 1\n"
     ]
    }
   ],
   "source": [
    "\n",
    "with torch.no_grad():\n",
    "    output = model(input_tensor)\n",
    "    predicted_class = torch.argmax(output, dim=1).item()\n",
    "\n",
    "\n",
    "print(f\"Predicted class: {predicted_class}\")\n",
    "print(f\"True class: {sample_label.item()}\")\n",
    "\n"
   ]
  },
  {
   "cell_type": "code",
   "execution_count": 40,
   "id": "502fac6d",
   "metadata": {},
   "outputs": [
    {
     "data": {
      "text/plain": [
       "28"
      ]
     },
     "execution_count": 40,
     "metadata": {},
     "output_type": "execute_result"
    }
   ],
   "source": [
    "#test on all data \n",
    "\n",
    "from torch.utils.data import DataLoader\n",
    "import torch\n",
    "\n",
    "\n",
    "test_loader = DataLoader(test_data_df, batch_size=32, shuffle=False)\n",
    "\n",
    "len(test_loader)"
   ]
  },
  {
   "cell_type": "code",
   "execution_count": 41,
   "id": "dd892efb",
   "metadata": {},
   "outputs": [
    {
     "name": "stdout",
     "output_type": "stream",
     "text": [
      "✅ Accuracy on full test set: 82.13%\n"
     ]
    }
   ],
   "source": [
    "\n",
    "\n",
    "# 2. Send model to device and set to eval mode\n",
    "device = torch.device(\"cuda\" if torch.cuda.is_available() else \"cpu\")\n",
    "model.to(device)\n",
    "model.eval()\n",
    "\n",
    "# 3. Initialize counters\n",
    "correct = 0\n",
    "total = 0\n",
    "\n",
    "# 4. Evaluation loop\n",
    "with torch.no_grad():\n",
    "    for inputs, labels in test_loader:\n",
    "        inputs = inputs.to(device)\n",
    "        labels = labels.to(device)\n",
    "\n",
    "        outputs = model(inputs)\n",
    "        predictions = torch.argmax(outputs, dim=1)\n",
    "\n",
    "        correct += (predictions == labels).sum().item()\n",
    "        total += labels.size(0)\n",
    "\n",
    "# 5. Compute and print accuracy\n",
    "accuracy = correct / total\n",
    "print(f\"✅ Accuracy on full test set: {accuracy:.2%}\")\n"
   ]
  }
 ],
 "metadata": {
  "kernelspec": {
   "display_name": "venv",
   "language": "python",
   "name": "python3"
  },
  "language_info": {
   "codemirror_mode": {
    "name": "ipython",
    "version": 3
   },
   "file_extension": ".py",
   "mimetype": "text/x-python",
   "name": "python",
   "nbconvert_exporter": "python",
   "pygments_lexer": "ipython3",
   "version": "3.10.12"
  }
 },
 "nbformat": 4,
 "nbformat_minor": 5
}
